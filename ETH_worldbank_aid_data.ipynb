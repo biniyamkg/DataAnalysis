{
 "cells": [
  {
   "cell_type": "code",
   "execution_count": 1,
   "metadata": {},
   "outputs": [
    {
     "name": "stdout",
     "output_type": "stream",
     "text": [
      "Imported !!\n"
     ]
    }
   ],
   "source": [
    "#Importing labrarie s\n",
    "import pandas as pd\n",
    "import numpy as np\n",
    "import bar_chart_race as bcr\n",
    "print(\"Imported !!\")"
   ]
  },
  {
   "cell_type": "code",
   "execution_count": null,
   "metadata": {},
   "outputs": [],
   "source": []
  }
 ],
 "metadata": {
  "kernelspec": {
   "display_name": "data_analysis_env",
   "language": "python",
   "name": "python3"
  },
  "language_info": {
   "codemirror_mode": {
    "name": "ipython",
    "version": 3
   },
   "file_extension": ".py",
   "mimetype": "text/x-python",
   "name": "python",
   "nbconvert_exporter": "python",
   "pygments_lexer": "ipython3",
   "version": "3.9.13"
  },
  "orig_nbformat": 4,
  "vscode": {
   "interpreter": {
    "hash": "df2efb18a95a5ba57b9996a4da539af4c6d9263e3c1382e2a9cfe741c77157ba"
   }
  }
 },
 "nbformat": 4,
 "nbformat_minor": 2
}
